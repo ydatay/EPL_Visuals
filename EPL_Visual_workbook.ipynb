{
 "cells": [
  {
   "cell_type": "code",
   "execution_count": 1,
   "id": "bee8cbbf",
   "metadata": {},
   "outputs": [],
   "source": [
    "import pandas as pd\n",
    "import seaborn as sns\n",
    "import matplotlib.pyplot as plt"
   ]
  },
  {
   "cell_type": "code",
   "execution_count": null,
   "id": "eaff8d1a",
   "metadata": {},
   "outputs": [],
   "source": [
    "df = pd.read_excel('shots_creation.xlsx', header=1)"
   ]
  },
  {
   "cell_type": "code",
   "execution_count": null,
   "id": "1e0394c0",
   "metadata": {},
   "outputs": [],
   "source": [
    "df"
   ]
  },
  {
   "cell_type": "code",
   "execution_count": null,
   "id": "90892bb8",
   "metadata": {},
   "outputs": [],
   "source": [
    "df = df[['Rk', 'Player', 'Pos', 'Squad', '90s', 'SCA', 'SCA90', 'GCA','GCA90']] # Keep only relevant columns"
   ]
  },
  {
   "cell_type": "code",
   "execution_count": null,
   "id": "2f82d868",
   "metadata": {},
   "outputs": [],
   "source": [
    "df = df[df['90s']>=10] # Select only players who have played 10 full games or more"
   ]
  },
  {
   "cell_type": "code",
   "execution_count": null,
   "id": "2f12d616",
   "metadata": {},
   "outputs": [],
   "source": [
    "fig = plt.figure(figsize=(12,8), dpi=200)\n",
    "\n",
    "sns.set_theme()\n",
    "ax = sns.scatterplot(data=df, x='SCA90',y='GCA90', hue='Pos')\n",
    "# fig.legend(loc='upper left', title='Position')\n",
    "sns.move_legend(ax, loc='upper left')\n",
    "\n",
    "top_players = [x for x in df.sort_values('SCA90', ascending=False)['Player'].head(7)]\n",
    "top_players = top_players + [x for x in df.sort_values('GCA90', ascending=False)['Player'].head(6)]\n",
    "for player in top_players:\n",
    "    plt.text(x=df['SCA90'][df['Player']==player]+0.05, \n",
    "             y=df['GCA90'][df['Player']==player]-0.01,\n",
    "             s=player)\n",
    "fig.savefig('shots_creation.png')"
   ]
  },
  {
   "cell_type": "code",
   "execution_count": null,
   "id": "e45bac10",
   "metadata": {},
   "outputs": [],
   "source": []
  }
 ],
 "metadata": {
  "kernelspec": {
   "display_name": "Python 3 (ipykernel)",
   "language": "python",
   "name": "python3"
  },
  "language_info": {
   "codemirror_mode": {
    "name": "ipython",
    "version": 3
   },
   "file_extension": ".py",
   "mimetype": "text/x-python",
   "name": "python",
   "nbconvert_exporter": "python",
   "pygments_lexer": "ipython3",
   "version": "3.8.8"
  }
 },
 "nbformat": 4,
 "nbformat_minor": 5
}
